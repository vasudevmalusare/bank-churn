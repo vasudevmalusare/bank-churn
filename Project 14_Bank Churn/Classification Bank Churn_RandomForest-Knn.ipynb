{
 "cells": [
  {
   "cell_type": "code",
   "execution_count": 1,
   "id": "bc8beed2",
   "metadata": {},
   "outputs": [],
   "source": [
    "import pandas as pd\n",
    "import numpy as np\n",
    "import seaborn as sns\n",
    "import matplotlib.pyplot as plt\n",
    "\n",
    "\n",
    "from sklearn.neighbors import KNeighborsClassifier\n",
    "from sklearn.tree import DecisionTreeClassifier\n",
    "from sklearn.ensemble import RandomForestClassifier, AdaBoostClassifier\n",
    "from sklearn.metrics import classification_report,accuracy_score,confusion_matrix\n",
    "from sklearn.model_selection import train_test_split,GridSearchCV,RandomizedSearchCV"
   ]
  },
  {
   "cell_type": "code",
   "execution_count": 2,
   "id": "34cee200",
   "metadata": {},
   "outputs": [
    {
     "data": {
      "text/html": [
       "<div>\n",
       "<style scoped>\n",
       "    .dataframe tbody tr th:only-of-type {\n",
       "        vertical-align: middle;\n",
       "    }\n",
       "\n",
       "    .dataframe tbody tr th {\n",
       "        vertical-align: top;\n",
       "    }\n",
       "\n",
       "    .dataframe thead th {\n",
       "        text-align: right;\n",
       "    }\n",
       "</style>\n",
       "<table border=\"1\" class=\"dataframe\">\n",
       "  <thead>\n",
       "    <tr style=\"text-align: right;\">\n",
       "      <th></th>\n",
       "      <th>RowNumber</th>\n",
       "      <th>CustomerId</th>\n",
       "      <th>Surname</th>\n",
       "      <th>CreditScore</th>\n",
       "      <th>Geography</th>\n",
       "      <th>Gender</th>\n",
       "      <th>Age</th>\n",
       "      <th>Tenure</th>\n",
       "      <th>Balance</th>\n",
       "      <th>NumOfProducts</th>\n",
       "      <th>HasCrCard</th>\n",
       "      <th>IsActiveMember</th>\n",
       "      <th>EstimatedSalary</th>\n",
       "      <th>Exited</th>\n",
       "    </tr>\n",
       "  </thead>\n",
       "  <tbody>\n",
       "    <tr>\n",
       "      <th>0</th>\n",
       "      <td>1</td>\n",
       "      <td>15634602</td>\n",
       "      <td>Hargrave</td>\n",
       "      <td>619</td>\n",
       "      <td>France</td>\n",
       "      <td>Female</td>\n",
       "      <td>42</td>\n",
       "      <td>2</td>\n",
       "      <td>0.00</td>\n",
       "      <td>1</td>\n",
       "      <td>1</td>\n",
       "      <td>1</td>\n",
       "      <td>101348.88</td>\n",
       "      <td>1</td>\n",
       "    </tr>\n",
       "    <tr>\n",
       "      <th>1</th>\n",
       "      <td>2</td>\n",
       "      <td>15647311</td>\n",
       "      <td>Hill</td>\n",
       "      <td>608</td>\n",
       "      <td>Spain</td>\n",
       "      <td>Female</td>\n",
       "      <td>41</td>\n",
       "      <td>1</td>\n",
       "      <td>83807.86</td>\n",
       "      <td>1</td>\n",
       "      <td>0</td>\n",
       "      <td>1</td>\n",
       "      <td>112542.58</td>\n",
       "      <td>0</td>\n",
       "    </tr>\n",
       "    <tr>\n",
       "      <th>2</th>\n",
       "      <td>3</td>\n",
       "      <td>15619304</td>\n",
       "      <td>Onio</td>\n",
       "      <td>502</td>\n",
       "      <td>France</td>\n",
       "      <td>Female</td>\n",
       "      <td>42</td>\n",
       "      <td>8</td>\n",
       "      <td>159660.80</td>\n",
       "      <td>3</td>\n",
       "      <td>1</td>\n",
       "      <td>0</td>\n",
       "      <td>113931.57</td>\n",
       "      <td>1</td>\n",
       "    </tr>\n",
       "    <tr>\n",
       "      <th>3</th>\n",
       "      <td>4</td>\n",
       "      <td>15701354</td>\n",
       "      <td>Boni</td>\n",
       "      <td>699</td>\n",
       "      <td>France</td>\n",
       "      <td>Female</td>\n",
       "      <td>39</td>\n",
       "      <td>1</td>\n",
       "      <td>0.00</td>\n",
       "      <td>2</td>\n",
       "      <td>0</td>\n",
       "      <td>0</td>\n",
       "      <td>93826.63</td>\n",
       "      <td>0</td>\n",
       "    </tr>\n",
       "    <tr>\n",
       "      <th>4</th>\n",
       "      <td>5</td>\n",
       "      <td>15737888</td>\n",
       "      <td>Mitchell</td>\n",
       "      <td>850</td>\n",
       "      <td>Spain</td>\n",
       "      <td>Female</td>\n",
       "      <td>43</td>\n",
       "      <td>2</td>\n",
       "      <td>125510.82</td>\n",
       "      <td>1</td>\n",
       "      <td>1</td>\n",
       "      <td>1</td>\n",
       "      <td>79084.10</td>\n",
       "      <td>0</td>\n",
       "    </tr>\n",
       "  </tbody>\n",
       "</table>\n",
       "</div>"
      ],
      "text/plain": [
       "   RowNumber  CustomerId   Surname  CreditScore Geography  Gender  Age  \\\n",
       "0          1    15634602  Hargrave          619    France  Female   42   \n",
       "1          2    15647311      Hill          608     Spain  Female   41   \n",
       "2          3    15619304      Onio          502    France  Female   42   \n",
       "3          4    15701354      Boni          699    France  Female   39   \n",
       "4          5    15737888  Mitchell          850     Spain  Female   43   \n",
       "\n",
       "   Tenure    Balance  NumOfProducts  HasCrCard  IsActiveMember  \\\n",
       "0       2       0.00              1          1               1   \n",
       "1       1   83807.86              1          0               1   \n",
       "2       8  159660.80              3          1               0   \n",
       "3       1       0.00              2          0               0   \n",
       "4       2  125510.82              1          1               1   \n",
       "\n",
       "   EstimatedSalary  Exited  \n",
       "0        101348.88       1  \n",
       "1        112542.58       0  \n",
       "2        113931.57       1  \n",
       "3         93826.63       0  \n",
       "4         79084.10       0  "
      ]
     },
     "execution_count": 2,
     "metadata": {},
     "output_type": "execute_result"
    }
   ],
   "source": [
    "df = pd.read_csv('Churn_Modelling.csv')\n",
    "df.head()"
   ]
  },
  {
   "cell_type": "code",
   "execution_count": 3,
   "id": "59f8b5fc",
   "metadata": {},
   "outputs": [],
   "source": [
    "dt = df.copy"
   ]
  },
  {
   "cell_type": "code",
   "execution_count": 4,
   "id": "a1e63be3",
   "metadata": {},
   "outputs": [
    {
     "name": "stdout",
     "output_type": "stream",
     "text": [
      "<class 'pandas.core.frame.DataFrame'>\n",
      "RangeIndex: 10000 entries, 0 to 9999\n",
      "Data columns (total 14 columns):\n",
      " #   Column           Non-Null Count  Dtype  \n",
      "---  ------           --------------  -----  \n",
      " 0   RowNumber        10000 non-null  int64  \n",
      " 1   CustomerId       10000 non-null  int64  \n",
      " 2   Surname          10000 non-null  object \n",
      " 3   CreditScore      10000 non-null  int64  \n",
      " 4   Geography        10000 non-null  object \n",
      " 5   Gender           10000 non-null  object \n",
      " 6   Age              10000 non-null  int64  \n",
      " 7   Tenure           10000 non-null  int64  \n",
      " 8   Balance          10000 non-null  float64\n",
      " 9   NumOfProducts    10000 non-null  int64  \n",
      " 10  HasCrCard        10000 non-null  int64  \n",
      " 11  IsActiveMember   10000 non-null  int64  \n",
      " 12  EstimatedSalary  10000 non-null  float64\n",
      " 13  Exited           10000 non-null  int64  \n",
      "dtypes: float64(2), int64(9), object(3)\n",
      "memory usage: 1.1+ MB\n"
     ]
    }
   ],
   "source": [
    "df.info()"
   ]
  },
  {
   "cell_type": "code",
   "execution_count": 5,
   "id": "5b09eafd",
   "metadata": {},
   "outputs": [],
   "source": [
    "from sklearn.preprocessing import LabelEncoder,OneHotEncoder, StandardScaler"
   ]
  },
  {
   "cell_type": "code",
   "execution_count": 6,
   "id": "6a7d5d7d",
   "metadata": {},
   "outputs": [],
   "source": [
    "def Lable(x):\n",
    "    df[x] = LabelEncoder().fit_transform(df[x])"
   ]
  },
  {
   "cell_type": "code",
   "execution_count": 7,
   "id": "4cbd5bf5",
   "metadata": {},
   "outputs": [
    {
     "data": {
      "text/plain": [
       "2"
      ]
     },
     "execution_count": 7,
     "metadata": {},
     "output_type": "execute_result"
    }
   ],
   "source": [
    "df['Gender'].nunique()"
   ]
  },
  {
   "cell_type": "code",
   "execution_count": 8,
   "id": "8de097db",
   "metadata": {},
   "outputs": [],
   "source": [
    "Lable('Gender')\n",
    "Lable('Geography')"
   ]
  },
  {
   "cell_type": "code",
   "execution_count": 9,
   "id": "94b7858b",
   "metadata": {},
   "outputs": [
    {
     "name": "stdout",
     "output_type": "stream",
     "text": [
      "<class 'pandas.core.frame.DataFrame'>\n",
      "RangeIndex: 10000 entries, 0 to 9999\n",
      "Data columns (total 14 columns):\n",
      " #   Column           Non-Null Count  Dtype  \n",
      "---  ------           --------------  -----  \n",
      " 0   RowNumber        10000 non-null  int64  \n",
      " 1   CustomerId       10000 non-null  int64  \n",
      " 2   Surname          10000 non-null  object \n",
      " 3   CreditScore      10000 non-null  int64  \n",
      " 4   Geography        10000 non-null  int32  \n",
      " 5   Gender           10000 non-null  int32  \n",
      " 6   Age              10000 non-null  int64  \n",
      " 7   Tenure           10000 non-null  int64  \n",
      " 8   Balance          10000 non-null  float64\n",
      " 9   NumOfProducts    10000 non-null  int64  \n",
      " 10  HasCrCard        10000 non-null  int64  \n",
      " 11  IsActiveMember   10000 non-null  int64  \n",
      " 12  EstimatedSalary  10000 non-null  float64\n",
      " 13  Exited           10000 non-null  int64  \n",
      "dtypes: float64(2), int32(2), int64(9), object(1)\n",
      "memory usage: 1015.8+ KB\n"
     ]
    }
   ],
   "source": [
    "df.info()"
   ]
  },
  {
   "cell_type": "markdown",
   "id": "9780a4a0",
   "metadata": {},
   "source": [
    "### Train Test split"
   ]
  },
  {
   "cell_type": "code",
   "execution_count": 10,
   "id": "30ed437c",
   "metadata": {},
   "outputs": [],
   "source": [
    "x = df.drop(['Exited','Surname','CustomerId'],axis=1)\n",
    "y = df['Exited']"
   ]
  },
  {
   "cell_type": "code",
   "execution_count": 11,
   "id": "0883e86a",
   "metadata": {},
   "outputs": [
    {
     "data": {
      "text/html": [
       "<div>\n",
       "<style scoped>\n",
       "    .dataframe tbody tr th:only-of-type {\n",
       "        vertical-align: middle;\n",
       "    }\n",
       "\n",
       "    .dataframe tbody tr th {\n",
       "        vertical-align: top;\n",
       "    }\n",
       "\n",
       "    .dataframe thead th {\n",
       "        text-align: right;\n",
       "    }\n",
       "</style>\n",
       "<table border=\"1\" class=\"dataframe\">\n",
       "  <thead>\n",
       "    <tr style=\"text-align: right;\">\n",
       "      <th></th>\n",
       "      <th>RowNumber</th>\n",
       "      <th>CreditScore</th>\n",
       "      <th>Geography</th>\n",
       "      <th>Gender</th>\n",
       "      <th>Age</th>\n",
       "      <th>Tenure</th>\n",
       "      <th>Balance</th>\n",
       "      <th>NumOfProducts</th>\n",
       "      <th>HasCrCard</th>\n",
       "      <th>IsActiveMember</th>\n",
       "      <th>EstimatedSalary</th>\n",
       "    </tr>\n",
       "  </thead>\n",
       "  <tbody>\n",
       "    <tr>\n",
       "      <th>0</th>\n",
       "      <td>1</td>\n",
       "      <td>619</td>\n",
       "      <td>0</td>\n",
       "      <td>0</td>\n",
       "      <td>42</td>\n",
       "      <td>2</td>\n",
       "      <td>0.00</td>\n",
       "      <td>1</td>\n",
       "      <td>1</td>\n",
       "      <td>1</td>\n",
       "      <td>101348.88</td>\n",
       "    </tr>\n",
       "    <tr>\n",
       "      <th>1</th>\n",
       "      <td>2</td>\n",
       "      <td>608</td>\n",
       "      <td>2</td>\n",
       "      <td>0</td>\n",
       "      <td>41</td>\n",
       "      <td>1</td>\n",
       "      <td>83807.86</td>\n",
       "      <td>1</td>\n",
       "      <td>0</td>\n",
       "      <td>1</td>\n",
       "      <td>112542.58</td>\n",
       "    </tr>\n",
       "    <tr>\n",
       "      <th>2</th>\n",
       "      <td>3</td>\n",
       "      <td>502</td>\n",
       "      <td>0</td>\n",
       "      <td>0</td>\n",
       "      <td>42</td>\n",
       "      <td>8</td>\n",
       "      <td>159660.80</td>\n",
       "      <td>3</td>\n",
       "      <td>1</td>\n",
       "      <td>0</td>\n",
       "      <td>113931.57</td>\n",
       "    </tr>\n",
       "    <tr>\n",
       "      <th>3</th>\n",
       "      <td>4</td>\n",
       "      <td>699</td>\n",
       "      <td>0</td>\n",
       "      <td>0</td>\n",
       "      <td>39</td>\n",
       "      <td>1</td>\n",
       "      <td>0.00</td>\n",
       "      <td>2</td>\n",
       "      <td>0</td>\n",
       "      <td>0</td>\n",
       "      <td>93826.63</td>\n",
       "    </tr>\n",
       "    <tr>\n",
       "      <th>4</th>\n",
       "      <td>5</td>\n",
       "      <td>850</td>\n",
       "      <td>2</td>\n",
       "      <td>0</td>\n",
       "      <td>43</td>\n",
       "      <td>2</td>\n",
       "      <td>125510.82</td>\n",
       "      <td>1</td>\n",
       "      <td>1</td>\n",
       "      <td>1</td>\n",
       "      <td>79084.10</td>\n",
       "    </tr>\n",
       "  </tbody>\n",
       "</table>\n",
       "</div>"
      ],
      "text/plain": [
       "   RowNumber  CreditScore  Geography  Gender  Age  Tenure    Balance  \\\n",
       "0          1          619          0       0   42       2       0.00   \n",
       "1          2          608          2       0   41       1   83807.86   \n",
       "2          3          502          0       0   42       8  159660.80   \n",
       "3          4          699          0       0   39       1       0.00   \n",
       "4          5          850          2       0   43       2  125510.82   \n",
       "\n",
       "   NumOfProducts  HasCrCard  IsActiveMember  EstimatedSalary  \n",
       "0              1          1               1        101348.88  \n",
       "1              1          0               1        112542.58  \n",
       "2              3          1               0        113931.57  \n",
       "3              2          0               0         93826.63  \n",
       "4              1          1               1         79084.10  "
      ]
     },
     "execution_count": 11,
     "metadata": {},
     "output_type": "execute_result"
    }
   ],
   "source": [
    "x.head()"
   ]
  },
  {
   "cell_type": "code",
   "execution_count": 12,
   "id": "1f6e4cbb",
   "metadata": {},
   "outputs": [
    {
     "data": {
      "text/plain": [
       "0    1\n",
       "1    0\n",
       "2    1\n",
       "3    0\n",
       "4    0\n",
       "Name: Exited, dtype: int64"
      ]
     },
     "execution_count": 12,
     "metadata": {},
     "output_type": "execute_result"
    }
   ],
   "source": [
    "y[:5]"
   ]
  },
  {
   "cell_type": "code",
   "execution_count": 13,
   "id": "1d317bfa",
   "metadata": {},
   "outputs": [],
   "source": [
    "x_train,x_test,y_train,y_test = train_test_split(x,y,test_size=0.2,random_state=1,stratify=y)"
   ]
  },
  {
   "cell_type": "markdown",
   "id": "aba0d6ed",
   "metadata": {},
   "source": [
    "### 1.Random Forest:"
   ]
  },
  {
   "cell_type": "code",
   "execution_count": 14,
   "id": "b5824d04",
   "metadata": {},
   "outputs": [
    {
     "data": {
      "text/plain": [
       "RandomForestClassifier(random_state=1)"
      ]
     },
     "execution_count": 14,
     "metadata": {},
     "output_type": "execute_result"
    }
   ],
   "source": [
    "rf_cls = RandomForestClassifier(random_state=1)\n",
    "rf_cls.fit(x_train,y_train)"
   ]
  },
  {
   "cell_type": "code",
   "execution_count": 15,
   "id": "e533182c",
   "metadata": {},
   "outputs": [
    {
     "data": {
      "text/plain": [
       "1.0"
      ]
     },
     "execution_count": 15,
     "metadata": {},
     "output_type": "execute_result"
    }
   ],
   "source": [
    "rf_cls.score(x_train,y_train)"
   ]
  },
  {
   "cell_type": "code",
   "execution_count": 16,
   "id": "ac07b20b",
   "metadata": {},
   "outputs": [
    {
     "data": {
      "text/plain": [
       "0.864"
      ]
     },
     "execution_count": 16,
     "metadata": {},
     "output_type": "execute_result"
    }
   ],
   "source": [
    "rf_cls.score(x_test,y_test)"
   ]
  },
  {
   "cell_type": "markdown",
   "id": "227ba530",
   "metadata": {},
   "source": [
    "### Hyperparameter"
   ]
  },
  {
   "cell_type": "code",
   "execution_count": 17,
   "id": "e9dc4463",
   "metadata": {},
   "outputs": [
    {
     "data": {
      "text/plain": [
       "RandomizedSearchCV(cv=5, estimator=RandomForestClassifier(random_state=1),\n",
       "                   param_distributions={'criterion': ['gini', 'entropy'],\n",
       "                                        'max_depth': array([5, 6, 7, 8, 9]),\n",
       "                                        'min_samples_leaf': array([1, 2, 3, 4, 5, 6, 7, 8, 9]),\n",
       "                                        'min_samples_split': array([2, 3, 4, 5, 6, 7, 8, 9]),\n",
       "                                        'n_estimators': array([10, 11, 12, 13, 14, 15, 16, 17, 18, 19])})"
      ]
     },
     "execution_count": 17,
     "metadata": {},
     "output_type": "execute_result"
    }
   ],
   "source": [
    "rf_cls = RandomForestClassifier(random_state=1)\n",
    "\n",
    "hyp = {'n_estimators':np.arange(10,20),\n",
    "       'criterion':['gini','entropy'],\n",
    "       'max_depth':np.arange(5,10),\n",
    "       'min_samples_split':np.arange(2,10),\n",
    "       'min_samples_leaf':np.arange(1,10)}\n",
    "\n",
    "Rscv_model = RandomizedSearchCV(rf_cls,hyp,cv=5)\n",
    "Rscv_model.fit(x_train,y_train)"
   ]
  },
  {
   "cell_type": "code",
   "execution_count": 18,
   "id": "1afd506f",
   "metadata": {},
   "outputs": [
    {
     "data": {
      "text/plain": [
       "{'n_estimators': 17,\n",
       " 'min_samples_split': 8,\n",
       " 'min_samples_leaf': 5,\n",
       " 'max_depth': 9,\n",
       " 'criterion': 'gini'}"
      ]
     },
     "execution_count": 18,
     "metadata": {},
     "output_type": "execute_result"
    }
   ],
   "source": [
    "Rscv_model.best_params_"
   ]
  },
  {
   "cell_type": "code",
   "execution_count": 19,
   "id": "1b94b2a7",
   "metadata": {},
   "outputs": [
    {
     "data": {
      "text/plain": [
       "RandomForestClassifier(criterion='entropy', max_depth=9, min_samples_leaf=9,\n",
       "                       n_estimators=19)"
      ]
     },
     "execution_count": 19,
     "metadata": {},
     "output_type": "execute_result"
    }
   ],
   "source": [
    "rf_cls = RandomForestClassifier(n_estimators=19,\n",
    "                                criterion='entropy',\n",
    "                                max_depth=9,\n",
    "                                min_samples_leaf=9,\n",
    "                                min_samples_split=2)\n",
    "rf_cls.fit(x_train,y_train)"
   ]
  },
  {
   "cell_type": "code",
   "execution_count": 20,
   "id": "309b76ad",
   "metadata": {},
   "outputs": [
    {
     "data": {
      "text/plain": [
       "0.871375"
      ]
     },
     "execution_count": 20,
     "metadata": {},
     "output_type": "execute_result"
    }
   ],
   "source": [
    "rf_cls.score(x_train,y_train)"
   ]
  },
  {
   "cell_type": "code",
   "execution_count": 21,
   "id": "15ab202e",
   "metadata": {
    "scrolled": true
   },
   "outputs": [
    {
     "data": {
      "text/plain": [
       "0.8595"
      ]
     },
     "execution_count": 21,
     "metadata": {},
     "output_type": "execute_result"
    }
   ],
   "source": [
    "rf_cls.score(x_test,y_test)"
   ]
  },
  {
   "cell_type": "code",
   "execution_count": 23,
   "id": "f70a73d8",
   "metadata": {},
   "outputs": [],
   "source": [
    "# rf_cls = RandomForestClassifier(random_state=1)\n",
    "\n",
    "# hyp = {'n_estimators':np.arange(15,20),\n",
    "#        'criterion':['gini','entropy'],\n",
    "#        'max_depth':np.arange(5,10),\n",
    "#        'min_samples_split':np.arange(5,10),\n",
    "#        'min_samples_leaf':np.arange(1,8)}\n",
    "\n",
    "# Gscv_model = GridSearchCV(rf_cls,hyp,cv=5)\n",
    "# Gscv_model.fit(x_train,y_train)"
   ]
  },
  {
   "cell_type": "code",
   "execution_count": 36,
   "id": "d21a8ede",
   "metadata": {},
   "outputs": [],
   "source": [
    "# Gscv_model.best_params_"
   ]
  },
  {
   "cell_type": "code",
   "execution_count": 25,
   "id": "081e00df",
   "metadata": {},
   "outputs": [
    {
     "data": {
      "text/plain": [
       "RandomForestClassifier(criterion='entropy', max_depth=9, min_samples_leaf=3,\n",
       "                       min_samples_split=8, n_estimators=19)"
      ]
     },
     "execution_count": 25,
     "metadata": {},
     "output_type": "execute_result"
    }
   ],
   "source": [
    "rf_cls = RandomForestClassifier(n_estimators=19,\n",
    "                                criterion='entropy',\n",
    "                                max_depth=9,\n",
    "                                min_samples_leaf=3,\n",
    "                                min_samples_split=8)\n",
    "rf_cls.fit(x_train,y_train)"
   ]
  },
  {
   "cell_type": "code",
   "execution_count": 26,
   "id": "ad93eaa7",
   "metadata": {},
   "outputs": [
    {
     "data": {
      "text/plain": [
       "0.876625"
      ]
     },
     "execution_count": 26,
     "metadata": {},
     "output_type": "execute_result"
    }
   ],
   "source": [
    "rf_cls.score(x_train,y_train)"
   ]
  },
  {
   "cell_type": "code",
   "execution_count": 27,
   "id": "e201a0b2",
   "metadata": {},
   "outputs": [
    {
     "data": {
      "text/plain": [
       "0.859"
      ]
     },
     "execution_count": 27,
     "metadata": {},
     "output_type": "execute_result"
    }
   ],
   "source": [
    "rf_cls.score(x_test,y_test)"
   ]
  },
  {
   "cell_type": "code",
   "execution_count": null,
   "id": "09f13b66",
   "metadata": {},
   "outputs": [],
   "source": []
  },
  {
   "cell_type": "code",
   "execution_count": 28,
   "id": "7c899584",
   "metadata": {},
   "outputs": [],
   "source": [
    "y_pred_test = rf_cls.predict(x_test)\n",
    "y_pred_train = rf_cls.predict(x_train)"
   ]
  },
  {
   "cell_type": "code",
   "execution_count": 29,
   "id": "df594e77",
   "metadata": {},
   "outputs": [
    {
     "data": {
      "text/plain": [
       "array([[1559,   34],\n",
       "       [ 248,  159]], dtype=int64)"
      ]
     },
     "execution_count": 29,
     "metadata": {},
     "output_type": "execute_result"
    }
   ],
   "source": [
    "confusion_matrix(y_test,y_pred_test)"
   ]
  },
  {
   "cell_type": "code",
   "execution_count": 30,
   "id": "5ef3f22f",
   "metadata": {
    "scrolled": true
   },
   "outputs": [
    {
     "name": "stdout",
     "output_type": "stream",
     "text": [
      "              precision    recall  f1-score   support\n",
      "\n",
      "           0       0.86      0.98      0.92      1593\n",
      "           1       0.82      0.39      0.53       407\n",
      "\n",
      "    accuracy                           0.86      2000\n",
      "   macro avg       0.84      0.68      0.72      2000\n",
      "weighted avg       0.85      0.86      0.84      2000\n",
      "\n"
     ]
    }
   ],
   "source": [
    "clas1 = classification_report(y_test,y_pred_test)\n",
    "print(clas1)"
   ]
  },
  {
   "cell_type": "code",
   "execution_count": 31,
   "id": "0d1f2019",
   "metadata": {},
   "outputs": [
    {
     "data": {
      "text/plain": [
       "array([[6284,   86],\n",
       "       [ 901,  729]], dtype=int64)"
      ]
     },
     "execution_count": 31,
     "metadata": {},
     "output_type": "execute_result"
    }
   ],
   "source": [
    "confusion_matrix(y_train,y_pred_train)"
   ]
  },
  {
   "cell_type": "code",
   "execution_count": 45,
   "id": "b6474206",
   "metadata": {
    "scrolled": false
   },
   "outputs": [
    {
     "data": {
      "text/html": [
       "<div>\n",
       "<style scoped>\n",
       "    .dataframe tbody tr th:only-of-type {\n",
       "        vertical-align: middle;\n",
       "    }\n",
       "\n",
       "    .dataframe tbody tr th {\n",
       "        vertical-align: top;\n",
       "    }\n",
       "\n",
       "    .dataframe thead th {\n",
       "        text-align: right;\n",
       "    }\n",
       "</style>\n",
       "<table border=\"1\" class=\"dataframe\">\n",
       "  <thead>\n",
       "    <tr style=\"text-align: right;\">\n",
       "      <th></th>\n",
       "      <th>RowNumber</th>\n",
       "      <th>CreditScore</th>\n",
       "      <th>Geography</th>\n",
       "      <th>Gender</th>\n",
       "      <th>Age</th>\n",
       "      <th>Tenure</th>\n",
       "      <th>Balance</th>\n",
       "      <th>NumOfProducts</th>\n",
       "      <th>HasCrCard</th>\n",
       "      <th>IsActiveMember</th>\n",
       "      <th>EstimatedSalary</th>\n",
       "    </tr>\n",
       "  </thead>\n",
       "  <tbody>\n",
       "    <tr>\n",
       "      <th>8527</th>\n",
       "      <td>8528</td>\n",
       "      <td>694</td>\n",
       "      <td>2</td>\n",
       "      <td>1</td>\n",
       "      <td>39</td>\n",
       "      <td>3</td>\n",
       "      <td>0.00</td>\n",
       "      <td>1</td>\n",
       "      <td>1</td>\n",
       "      <td>1</td>\n",
       "      <td>95625.03</td>\n",
       "    </tr>\n",
       "    <tr>\n",
       "      <th>2655</th>\n",
       "      <td>2656</td>\n",
       "      <td>850</td>\n",
       "      <td>1</td>\n",
       "      <td>1</td>\n",
       "      <td>53</td>\n",
       "      <td>2</td>\n",
       "      <td>94078.97</td>\n",
       "      <td>2</td>\n",
       "      <td>1</td>\n",
       "      <td>0</td>\n",
       "      <td>36980.54</td>\n",
       "    </tr>\n",
       "    <tr>\n",
       "      <th>3495</th>\n",
       "      <td>3496</td>\n",
       "      <td>591</td>\n",
       "      <td>1</td>\n",
       "      <td>1</td>\n",
       "      <td>46</td>\n",
       "      <td>4</td>\n",
       "      <td>129269.27</td>\n",
       "      <td>1</td>\n",
       "      <td>1</td>\n",
       "      <td>0</td>\n",
       "      <td>163504.33</td>\n",
       "    </tr>\n",
       "    <tr>\n",
       "      <th>8648</th>\n",
       "      <td>8649</td>\n",
       "      <td>809</td>\n",
       "      <td>2</td>\n",
       "      <td>0</td>\n",
       "      <td>48</td>\n",
       "      <td>2</td>\n",
       "      <td>0.00</td>\n",
       "      <td>1</td>\n",
       "      <td>1</td>\n",
       "      <td>0</td>\n",
       "      <td>160976.85</td>\n",
       "    </tr>\n",
       "    <tr>\n",
       "      <th>9322</th>\n",
       "      <td>9323</td>\n",
       "      <td>767</td>\n",
       "      <td>0</td>\n",
       "      <td>0</td>\n",
       "      <td>35</td>\n",
       "      <td>9</td>\n",
       "      <td>0.00</td>\n",
       "      <td>2</td>\n",
       "      <td>1</td>\n",
       "      <td>0</td>\n",
       "      <td>39511.61</td>\n",
       "    </tr>\n",
       "    <tr>\n",
       "      <th>8492</th>\n",
       "      <td>8493</td>\n",
       "      <td>494</td>\n",
       "      <td>0</td>\n",
       "      <td>1</td>\n",
       "      <td>28</td>\n",
       "      <td>9</td>\n",
       "      <td>114731.76</td>\n",
       "      <td>2</td>\n",
       "      <td>0</td>\n",
       "      <td>1</td>\n",
       "      <td>79479.74</td>\n",
       "    </tr>\n",
       "    <tr>\n",
       "      <th>6566</th>\n",
       "      <td>6567</td>\n",
       "      <td>525</td>\n",
       "      <td>1</td>\n",
       "      <td>0</td>\n",
       "      <td>30</td>\n",
       "      <td>0</td>\n",
       "      <td>157989.21</td>\n",
       "      <td>2</td>\n",
       "      <td>1</td>\n",
       "      <td>1</td>\n",
       "      <td>100687.67</td>\n",
       "    </tr>\n",
       "    <tr>\n",
       "      <th>7758</th>\n",
       "      <td>7759</td>\n",
       "      <td>711</td>\n",
       "      <td>0</td>\n",
       "      <td>1</td>\n",
       "      <td>41</td>\n",
       "      <td>3</td>\n",
       "      <td>0.00</td>\n",
       "      <td>2</td>\n",
       "      <td>1</td>\n",
       "      <td>1</td>\n",
       "      <td>193747.57</td>\n",
       "    </tr>\n",
       "    <tr>\n",
       "      <th>2274</th>\n",
       "      <td>2275</td>\n",
       "      <td>580</td>\n",
       "      <td>0</td>\n",
       "      <td>0</td>\n",
       "      <td>65</td>\n",
       "      <td>9</td>\n",
       "      <td>106804.26</td>\n",
       "      <td>3</td>\n",
       "      <td>1</td>\n",
       "      <td>0</td>\n",
       "      <td>107890.69</td>\n",
       "    </tr>\n",
       "    <tr>\n",
       "      <th>6354</th>\n",
       "      <td>6355</td>\n",
       "      <td>660</td>\n",
       "      <td>2</td>\n",
       "      <td>0</td>\n",
       "      <td>42</td>\n",
       "      <td>5</td>\n",
       "      <td>0.00</td>\n",
       "      <td>3</td>\n",
       "      <td>1</td>\n",
       "      <td>1</td>\n",
       "      <td>189016.24</td>\n",
       "    </tr>\n",
       "  </tbody>\n",
       "</table>\n",
       "</div>"
      ],
      "text/plain": [
       "      RowNumber  CreditScore  Geography  Gender  Age  Tenure    Balance  \\\n",
       "8527       8528          694          2       1   39       3       0.00   \n",
       "2655       2656          850          1       1   53       2   94078.97   \n",
       "3495       3496          591          1       1   46       4  129269.27   \n",
       "8648       8649          809          2       0   48       2       0.00   \n",
       "9322       9323          767          0       0   35       9       0.00   \n",
       "8492       8493          494          0       1   28       9  114731.76   \n",
       "6566       6567          525          1       0   30       0  157989.21   \n",
       "7758       7759          711          0       1   41       3       0.00   \n",
       "2274       2275          580          0       0   65       9  106804.26   \n",
       "6354       6355          660          2       0   42       5       0.00   \n",
       "\n",
       "      NumOfProducts  HasCrCard  IsActiveMember  EstimatedSalary  \n",
       "8527              1          1               1         95625.03  \n",
       "2655              2          1               0         36980.54  \n",
       "3495              1          1               0        163504.33  \n",
       "8648              1          1               0        160976.85  \n",
       "9322              2          1               0         39511.61  \n",
       "8492              2          0               1         79479.74  \n",
       "6566              2          1               1        100687.67  \n",
       "7758              2          1               1        193747.57  \n",
       "2274              3          1               0        107890.69  \n",
       "6354              3          1               1        189016.24  "
      ]
     },
     "execution_count": 45,
     "metadata": {},
     "output_type": "execute_result"
    }
   ],
   "source": [
    "x_test[10:20]"
   ]
  },
  {
   "cell_type": "code",
   "execution_count": 44,
   "id": "b49cdbcc",
   "metadata": {},
   "outputs": [
    {
     "data": {
      "text/plain": [
       "array([0, 1, 1, 1, 0, 0, 0, 0, 1, 1], dtype=int64)"
      ]
     },
     "execution_count": 44,
     "metadata": {},
     "output_type": "execute_result"
    }
   ],
   "source": [
    "rf_cls.predict(x_test[10:20])"
   ]
  },
  {
   "cell_type": "code",
   "execution_count": 46,
   "id": "4486477f",
   "metadata": {},
   "outputs": [
    {
     "data": {
      "text/plain": [
       "Index(['RowNumber', 'CreditScore', 'Geography', 'Gender', 'Age', 'Tenure',\n",
       "       'Balance', 'NumOfProducts', 'HasCrCard', 'IsActiveMember',\n",
       "       'EstimatedSalary'],\n",
       "      dtype='object')"
      ]
     },
     "execution_count": 46,
     "metadata": {},
     "output_type": "execute_result"
    }
   ],
   "source": [
    "x.columns"
   ]
  },
  {
   "cell_type": "code",
   "execution_count": 49,
   "id": "c4602917",
   "metadata": {},
   "outputs": [],
   "source": [
    "def prediction(RowNumber, CreditScore, Geography, Gender, Age, Tenure,\n",
    "       Balance, NumOfProducts, HasCrCard, IsActiveMember, EstimatedSalary):\n",
    "    \n",
    "    pred = rf_cls.predict([[RowNumber, CreditScore, Geography, Gender, Age, Tenure,\n",
    "       Balance, NumOfProducts, HasCrCard, IsActiveMember, EstimatedSalary]])\n",
    "    return pred[0]"
   ]
  },
  {
   "cell_type": "code",
   "execution_count": 50,
   "id": "a4d9a431",
   "metadata": {},
   "outputs": [
    {
     "data": {
      "text/plain": [
       "0"
      ]
     },
     "execution_count": 50,
     "metadata": {},
     "output_type": "execute_result"
    }
   ],
   "source": [
    "prediction(8528, 694, 2, 1, 39, 3, 0.00, 1, 1, 1, 95625.03)"
   ]
  },
  {
   "cell_type": "code",
   "execution_count": 51,
   "id": "1d6d0312",
   "metadata": {},
   "outputs": [],
   "source": [
    "import pickle,os"
   ]
  },
  {
   "cell_type": "code",
   "execution_count": 52,
   "id": "c2965903",
   "metadata": {},
   "outputs": [],
   "source": [
    "folder_path = 'model'\n",
    "\n",
    "if not os.path.exists(folder_path):\n",
    "    os.mkdir(folder_path)\n",
    "    \n",
    "pickle.dump(rf_cls, open(f\"{folder_path}/rf_pickle.pkl\", \"wb\"))"
   ]
  },
  {
   "cell_type": "code",
   "execution_count": null,
   "id": "3b549afd",
   "metadata": {},
   "outputs": [],
   "source": [
    "2656\t850\t1\t1\t53\t2\t94078.97\t2\t1\t0\t36980.54"
   ]
  },
  {
   "cell_type": "code",
   "execution_count": null,
   "id": "5a0a2dc2",
   "metadata": {},
   "outputs": [],
   "source": []
  },
  {
   "cell_type": "code",
   "execution_count": null,
   "id": "1a533490",
   "metadata": {},
   "outputs": [],
   "source": []
  },
  {
   "cell_type": "markdown",
   "id": "ad07e50e",
   "metadata": {},
   "source": [
    "### 2.Knn Model:"
   ]
  },
  {
   "cell_type": "code",
   "execution_count": 32,
   "id": "bd6bab32",
   "metadata": {},
   "outputs": [],
   "source": [
    "std_scale = StandardScaler()\n",
    "\n",
    "x_scale1 = std_scale.fit_transform(x_train)\n",
    "x_scale2 = std_scale.fit_transform(x_test)"
   ]
  },
  {
   "cell_type": "code",
   "execution_count": 33,
   "id": "372fe2e0",
   "metadata": {},
   "outputs": [
    {
     "data": {
      "text/html": [
       "<div>\n",
       "<style scoped>\n",
       "    .dataframe tbody tr th:only-of-type {\n",
       "        vertical-align: middle;\n",
       "    }\n",
       "\n",
       "    .dataframe tbody tr th {\n",
       "        vertical-align: top;\n",
       "    }\n",
       "\n",
       "    .dataframe thead th {\n",
       "        text-align: right;\n",
       "    }\n",
       "</style>\n",
       "<table border=\"1\" class=\"dataframe\">\n",
       "  <thead>\n",
       "    <tr style=\"text-align: right;\">\n",
       "      <th></th>\n",
       "      <th>RowNumber</th>\n",
       "      <th>CreditScore</th>\n",
       "      <th>Geography</th>\n",
       "      <th>Gender</th>\n",
       "      <th>Age</th>\n",
       "      <th>Tenure</th>\n",
       "      <th>Balance</th>\n",
       "      <th>NumOfProducts</th>\n",
       "      <th>HasCrCard</th>\n",
       "      <th>IsActiveMember</th>\n",
       "      <th>EstimatedSalary</th>\n",
       "    </tr>\n",
       "  </thead>\n",
       "  <tbody>\n",
       "    <tr>\n",
       "      <th>0</th>\n",
       "      <td>-0.251653</td>\n",
       "      <td>-0.556600</td>\n",
       "      <td>1.511623</td>\n",
       "      <td>-1.095269</td>\n",
       "      <td>3.516577</td>\n",
       "      <td>1.380964</td>\n",
       "      <td>0.925750</td>\n",
       "      <td>-0.914333</td>\n",
       "      <td>0.649397</td>\n",
       "      <td>0.967285</td>\n",
       "      <td>-1.505216</td>\n",
       "    </tr>\n",
       "    <tr>\n",
       "      <th>1</th>\n",
       "      <td>1.446838</td>\n",
       "      <td>-0.370472</td>\n",
       "      <td>-0.903110</td>\n",
       "      <td>0.913017</td>\n",
       "      <td>0.956282</td>\n",
       "      <td>-1.376312</td>\n",
       "      <td>-1.219862</td>\n",
       "      <td>0.797901</td>\n",
       "      <td>0.649397</td>\n",
       "      <td>-1.033822</td>\n",
       "      <td>1.614655</td>\n",
       "    </tr>\n",
       "    <tr>\n",
       "      <th>2</th>\n",
       "      <td>-1.486920</td>\n",
       "      <td>-2.118010</td>\n",
       "      <td>1.511623</td>\n",
       "      <td>0.913017</td>\n",
       "      <td>2.189016</td>\n",
       "      <td>-1.376312</td>\n",
       "      <td>-0.194773</td>\n",
       "      <td>-0.914333</td>\n",
       "      <td>0.649397</td>\n",
       "      <td>0.967285</td>\n",
       "      <td>-0.405078</td>\n",
       "    </tr>\n",
       "    <tr>\n",
       "      <th>3</th>\n",
       "      <td>-0.028889</td>\n",
       "      <td>-1.094304</td>\n",
       "      <td>-0.903110</td>\n",
       "      <td>-1.095269</td>\n",
       "      <td>0.102850</td>\n",
       "      <td>0.691645</td>\n",
       "      <td>-1.219862</td>\n",
       "      <td>-0.914333</td>\n",
       "      <td>-1.539890</td>\n",
       "      <td>0.967285</td>\n",
       "      <td>1.067959</td>\n",
       "    </tr>\n",
       "    <tr>\n",
       "      <th>4</th>\n",
       "      <td>0.501651</td>\n",
       "      <td>0.994469</td>\n",
       "      <td>-0.903110</td>\n",
       "      <td>0.913017</td>\n",
       "      <td>-0.181627</td>\n",
       "      <td>-1.031652</td>\n",
       "      <td>-1.219862</td>\n",
       "      <td>0.797901</td>\n",
       "      <td>0.649397</td>\n",
       "      <td>-1.033822</td>\n",
       "      <td>0.756245</td>\n",
       "    </tr>\n",
       "    <tr>\n",
       "      <th>...</th>\n",
       "      <td>...</td>\n",
       "      <td>...</td>\n",
       "      <td>...</td>\n",
       "      <td>...</td>\n",
       "      <td>...</td>\n",
       "      <td>...</td>\n",
       "      <td>...</td>\n",
       "      <td>...</td>\n",
       "      <td>...</td>\n",
       "      <td>...</td>\n",
       "      <td>...</td>\n",
       "    </tr>\n",
       "    <tr>\n",
       "      <th>7995</th>\n",
       "      <td>0.037732</td>\n",
       "      <td>-1.818136</td>\n",
       "      <td>-0.903110</td>\n",
       "      <td>-1.095269</td>\n",
       "      <td>-0.845407</td>\n",
       "      <td>1.380964</td>\n",
       "      <td>-1.219862</td>\n",
       "      <td>0.797901</td>\n",
       "      <td>-1.539890</td>\n",
       "      <td>-1.033822</td>\n",
       "      <td>-0.638851</td>\n",
       "    </tr>\n",
       "    <tr>\n",
       "      <th>7996</th>\n",
       "      <td>1.518664</td>\n",
       "      <td>1.935451</td>\n",
       "      <td>-0.903110</td>\n",
       "      <td>-1.095269</td>\n",
       "      <td>-0.940233</td>\n",
       "      <td>1.380964</td>\n",
       "      <td>-1.219862</td>\n",
       "      <td>0.797901</td>\n",
       "      <td>0.649397</td>\n",
       "      <td>0.967285</td>\n",
       "      <td>-1.009989</td>\n",
       "    </tr>\n",
       "    <tr>\n",
       "      <th>7997</th>\n",
       "      <td>1.596735</td>\n",
       "      <td>-0.494557</td>\n",
       "      <td>1.511623</td>\n",
       "      <td>0.913017</td>\n",
       "      <td>-0.466104</td>\n",
       "      <td>1.036305</td>\n",
       "      <td>0.353001</td>\n",
       "      <td>-0.914333</td>\n",
       "      <td>0.649397</td>\n",
       "      <td>-1.033822</td>\n",
       "      <td>-1.050503</td>\n",
       "    </tr>\n",
       "    <tr>\n",
       "      <th>7998</th>\n",
       "      <td>-1.571931</td>\n",
       "      <td>2.069877</td>\n",
       "      <td>-0.903110</td>\n",
       "      <td>0.913017</td>\n",
       "      <td>0.102850</td>\n",
       "      <td>1.380964</td>\n",
       "      <td>-1.219862</td>\n",
       "      <td>0.797901</td>\n",
       "      <td>-1.539890</td>\n",
       "      <td>0.967285</td>\n",
       "      <td>0.338571</td>\n",
       "    </tr>\n",
       "    <tr>\n",
       "      <th>7999</th>\n",
       "      <td>1.188681</td>\n",
       "      <td>0.787660</td>\n",
       "      <td>-0.903110</td>\n",
       "      <td>0.913017</td>\n",
       "      <td>-1.035058</td>\n",
       "      <td>-1.031652</td>\n",
       "      <td>-1.219862</td>\n",
       "      <td>-0.914333</td>\n",
       "      <td>-1.539890</td>\n",
       "      <td>-1.033822</td>\n",
       "      <td>-0.030473</td>\n",
       "    </tr>\n",
       "  </tbody>\n",
       "</table>\n",
       "<p>8000 rows × 11 columns</p>\n",
       "</div>"
      ],
      "text/plain": [
       "      RowNumber  CreditScore  Geography    Gender       Age    Tenure  \\\n",
       "0     -0.251653    -0.556600   1.511623 -1.095269  3.516577  1.380964   \n",
       "1      1.446838    -0.370472  -0.903110  0.913017  0.956282 -1.376312   \n",
       "2     -1.486920    -2.118010   1.511623  0.913017  2.189016 -1.376312   \n",
       "3     -0.028889    -1.094304  -0.903110 -1.095269  0.102850  0.691645   \n",
       "4      0.501651     0.994469  -0.903110  0.913017 -0.181627 -1.031652   \n",
       "...         ...          ...        ...       ...       ...       ...   \n",
       "7995   0.037732    -1.818136  -0.903110 -1.095269 -0.845407  1.380964   \n",
       "7996   1.518664     1.935451  -0.903110 -1.095269 -0.940233  1.380964   \n",
       "7997   1.596735    -0.494557   1.511623  0.913017 -0.466104  1.036305   \n",
       "7998  -1.571931     2.069877  -0.903110  0.913017  0.102850  1.380964   \n",
       "7999   1.188681     0.787660  -0.903110  0.913017 -1.035058 -1.031652   \n",
       "\n",
       "       Balance  NumOfProducts  HasCrCard  IsActiveMember  EstimatedSalary  \n",
       "0     0.925750      -0.914333   0.649397        0.967285        -1.505216  \n",
       "1    -1.219862       0.797901   0.649397       -1.033822         1.614655  \n",
       "2    -0.194773      -0.914333   0.649397        0.967285        -0.405078  \n",
       "3    -1.219862      -0.914333  -1.539890        0.967285         1.067959  \n",
       "4    -1.219862       0.797901   0.649397       -1.033822         0.756245  \n",
       "...        ...            ...        ...             ...              ...  \n",
       "7995 -1.219862       0.797901  -1.539890       -1.033822        -0.638851  \n",
       "7996 -1.219862       0.797901   0.649397        0.967285        -1.009989  \n",
       "7997  0.353001      -0.914333   0.649397       -1.033822        -1.050503  \n",
       "7998 -1.219862       0.797901  -1.539890        0.967285         0.338571  \n",
       "7999 -1.219862      -0.914333  -1.539890       -1.033822        -0.030473  \n",
       "\n",
       "[8000 rows x 11 columns]"
      ]
     },
     "execution_count": 33,
     "metadata": {},
     "output_type": "execute_result"
    }
   ],
   "source": [
    "df_train = pd.DataFrame(x_scale1,columns=x.columns)\n",
    "df_train"
   ]
  },
  {
   "cell_type": "code",
   "execution_count": 34,
   "id": "42b3e974",
   "metadata": {},
   "outputs": [
    {
     "data": {
      "text/html": [
       "<div>\n",
       "<style scoped>\n",
       "    .dataframe tbody tr th:only-of-type {\n",
       "        vertical-align: middle;\n",
       "    }\n",
       "\n",
       "    .dataframe tbody tr th {\n",
       "        vertical-align: top;\n",
       "    }\n",
       "\n",
       "    .dataframe thead th {\n",
       "        text-align: right;\n",
       "    }\n",
       "</style>\n",
       "<table border=\"1\" class=\"dataframe\">\n",
       "  <thead>\n",
       "    <tr style=\"text-align: right;\">\n",
       "      <th></th>\n",
       "      <th>RowNumber</th>\n",
       "      <th>CreditScore</th>\n",
       "      <th>Geography</th>\n",
       "      <th>Gender</th>\n",
       "      <th>Age</th>\n",
       "      <th>Tenure</th>\n",
       "      <th>Balance</th>\n",
       "      <th>NumOfProducts</th>\n",
       "      <th>HasCrCard</th>\n",
       "      <th>IsActiveMember</th>\n",
       "      <th>EstimatedSalary</th>\n",
       "    </tr>\n",
       "  </thead>\n",
       "  <tbody>\n",
       "    <tr>\n",
       "      <th>0</th>\n",
       "      <td>-0.208793</td>\n",
       "      <td>-2.494105</td>\n",
       "      <td>1.528986</td>\n",
       "      <td>0.910029</td>\n",
       "      <td>-0.385107</td>\n",
       "      <td>-1.083480</td>\n",
       "      <td>-1.250284</td>\n",
       "      <td>0.848433</td>\n",
       "      <td>0.632898</td>\n",
       "      <td>0.982159</td>\n",
       "      <td>-0.693331</td>\n",
       "    </tr>\n",
       "    <tr>\n",
       "      <th>1</th>\n",
       "      <td>-0.453917</td>\n",
       "      <td>-1.228033</td>\n",
       "      <td>1.528986</td>\n",
       "      <td>0.910029</td>\n",
       "      <td>-0.385107</td>\n",
       "      <td>1.019684</td>\n",
       "      <td>0.676315</td>\n",
       "      <td>-0.900913</td>\n",
       "      <td>0.632898</td>\n",
       "      <td>0.982159</td>\n",
       "      <td>0.591288</td>\n",
       "    </tr>\n",
       "    <tr>\n",
       "      <th>2</th>\n",
       "      <td>1.559059</td>\n",
       "      <td>0.058795</td>\n",
       "      <td>-0.897013</td>\n",
       "      <td>-1.098866</td>\n",
       "      <td>-0.580221</td>\n",
       "      <td>0.669157</td>\n",
       "      <td>0.205954</td>\n",
       "      <td>-0.900913</td>\n",
       "      <td>0.632898</td>\n",
       "      <td>-1.018165</td>\n",
       "      <td>0.608574</td>\n",
       "    </tr>\n",
       "    <tr>\n",
       "      <th>3</th>\n",
       "      <td>1.613111</td>\n",
       "      <td>-1.010102</td>\n",
       "      <td>0.315986</td>\n",
       "      <td>-1.098866</td>\n",
       "      <td>0.395350</td>\n",
       "      <td>-0.382425</td>\n",
       "      <td>0.788048</td>\n",
       "      <td>-0.900913</td>\n",
       "      <td>0.632898</td>\n",
       "      <td>0.982159</td>\n",
       "      <td>-0.454164</td>\n",
       "    </tr>\n",
       "    <tr>\n",
       "      <th>4</th>\n",
       "      <td>1.206522</td>\n",
       "      <td>1.044670</td>\n",
       "      <td>0.315986</td>\n",
       "      <td>0.910029</td>\n",
       "      <td>2.541608</td>\n",
       "      <td>-1.434008</td>\n",
       "      <td>0.954749</td>\n",
       "      <td>-0.900913</td>\n",
       "      <td>0.632898</td>\n",
       "      <td>0.982159</td>\n",
       "      <td>0.349967</td>\n",
       "    </tr>\n",
       "    <tr>\n",
       "      <th>...</th>\n",
       "      <td>...</td>\n",
       "      <td>...</td>\n",
       "      <td>...</td>\n",
       "      <td>...</td>\n",
       "      <td>...</td>\n",
       "      <td>...</td>\n",
       "      <td>...</td>\n",
       "      <td>...</td>\n",
       "      <td>...</td>\n",
       "      <td>...</td>\n",
       "      <td>...</td>\n",
       "    </tr>\n",
       "    <tr>\n",
       "      <th>1995</th>\n",
       "      <td>0.934889</td>\n",
       "      <td>-1.061991</td>\n",
       "      <td>1.528986</td>\n",
       "      <td>0.910029</td>\n",
       "      <td>3.614736</td>\n",
       "      <td>-1.083480</td>\n",
       "      <td>0.828850</td>\n",
       "      <td>0.848433</td>\n",
       "      <td>0.632898</td>\n",
       "      <td>0.982159</td>\n",
       "      <td>1.386932</td>\n",
       "    </tr>\n",
       "    <tr>\n",
       "      <th>1996</th>\n",
       "      <td>-1.178272</td>\n",
       "      <td>-0.294045</td>\n",
       "      <td>-0.897013</td>\n",
       "      <td>0.910029</td>\n",
       "      <td>-0.482664</td>\n",
       "      <td>0.318629</td>\n",
       "      <td>-1.250284</td>\n",
       "      <td>0.848433</td>\n",
       "      <td>-1.580033</td>\n",
       "      <td>-1.018165</td>\n",
       "      <td>1.655083</td>\n",
       "    </tr>\n",
       "    <tr>\n",
       "      <th>1997</th>\n",
       "      <td>-1.307031</td>\n",
       "      <td>-0.190269</td>\n",
       "      <td>0.315986</td>\n",
       "      <td>0.910029</td>\n",
       "      <td>-0.189993</td>\n",
       "      <td>-0.031898</td>\n",
       "      <td>0.587243</td>\n",
       "      <td>-0.900913</td>\n",
       "      <td>0.632898</td>\n",
       "      <td>-1.018165</td>\n",
       "      <td>-0.096557</td>\n",
       "    </tr>\n",
       "    <tr>\n",
       "      <th>1998</th>\n",
       "      <td>-1.387247</td>\n",
       "      <td>-0.771417</td>\n",
       "      <td>-0.897013</td>\n",
       "      <td>0.910029</td>\n",
       "      <td>-0.385107</td>\n",
       "      <td>-1.434008</td>\n",
       "      <td>-1.250284</td>\n",
       "      <td>0.848433</td>\n",
       "      <td>0.632898</td>\n",
       "      <td>-1.018165</td>\n",
       "      <td>-1.666956</td>\n",
       "    </tr>\n",
       "    <tr>\n",
       "      <th>1999</th>\n",
       "      <td>1.128371</td>\n",
       "      <td>-1.010102</td>\n",
       "      <td>-0.897013</td>\n",
       "      <td>0.910029</td>\n",
       "      <td>-0.092435</td>\n",
       "      <td>-1.083480</td>\n",
       "      <td>0.607765</td>\n",
       "      <td>-0.900913</td>\n",
       "      <td>0.632898</td>\n",
       "      <td>-1.018165</td>\n",
       "      <td>1.584978</td>\n",
       "    </tr>\n",
       "  </tbody>\n",
       "</table>\n",
       "<p>2000 rows × 11 columns</p>\n",
       "</div>"
      ],
      "text/plain": [
       "      RowNumber  CreditScore  Geography    Gender       Age    Tenure  \\\n",
       "0     -0.208793    -2.494105   1.528986  0.910029 -0.385107 -1.083480   \n",
       "1     -0.453917    -1.228033   1.528986  0.910029 -0.385107  1.019684   \n",
       "2      1.559059     0.058795  -0.897013 -1.098866 -0.580221  0.669157   \n",
       "3      1.613111    -1.010102   0.315986 -1.098866  0.395350 -0.382425   \n",
       "4      1.206522     1.044670   0.315986  0.910029  2.541608 -1.434008   \n",
       "...         ...          ...        ...       ...       ...       ...   \n",
       "1995   0.934889    -1.061991   1.528986  0.910029  3.614736 -1.083480   \n",
       "1996  -1.178272    -0.294045  -0.897013  0.910029 -0.482664  0.318629   \n",
       "1997  -1.307031    -0.190269   0.315986  0.910029 -0.189993 -0.031898   \n",
       "1998  -1.387247    -0.771417  -0.897013  0.910029 -0.385107 -1.434008   \n",
       "1999   1.128371    -1.010102  -0.897013  0.910029 -0.092435 -1.083480   \n",
       "\n",
       "       Balance  NumOfProducts  HasCrCard  IsActiveMember  EstimatedSalary  \n",
       "0    -1.250284       0.848433   0.632898        0.982159        -0.693331  \n",
       "1     0.676315      -0.900913   0.632898        0.982159         0.591288  \n",
       "2     0.205954      -0.900913   0.632898       -1.018165         0.608574  \n",
       "3     0.788048      -0.900913   0.632898        0.982159        -0.454164  \n",
       "4     0.954749      -0.900913   0.632898        0.982159         0.349967  \n",
       "...        ...            ...        ...             ...              ...  \n",
       "1995  0.828850       0.848433   0.632898        0.982159         1.386932  \n",
       "1996 -1.250284       0.848433  -1.580033       -1.018165         1.655083  \n",
       "1997  0.587243      -0.900913   0.632898       -1.018165        -0.096557  \n",
       "1998 -1.250284       0.848433   0.632898       -1.018165        -1.666956  \n",
       "1999  0.607765      -0.900913   0.632898       -1.018165         1.584978  \n",
       "\n",
       "[2000 rows x 11 columns]"
      ]
     },
     "execution_count": 34,
     "metadata": {},
     "output_type": "execute_result"
    }
   ],
   "source": [
    "df_test = pd.DataFrame(x_scale2,columns=x.columns)\n",
    "df_test"
   ]
  },
  {
   "cell_type": "code",
   "execution_count": 35,
   "id": "fbad56a4",
   "metadata": {},
   "outputs": [
    {
     "data": {
      "text/plain": [
       "GridSearchCV(cv=5, estimator=KNeighborsClassifier(),\n",
       "             param_grid={'n_neighbors': array([ 2,  3,  4,  5,  6,  7,  8,  9, 10, 11, 12, 13, 14]),\n",
       "                         'p': [1, 2]})"
      ]
     },
     "execution_count": 35,
     "metadata": {},
     "output_type": "execute_result"
    }
   ],
   "source": [
    "knn_model = KNeighborsClassifier()\n",
    "\n",
    "hyp2 = {'n_neighbors': np.arange(2,15),\n",
    "                 'p': [1,2]}\n",
    "\n",
    "Gscv_model1 = GridSearchCV(knn_model,hyp2,cv=5)\n",
    "Gscv_model1.fit(df_train,y_train)"
   ]
  },
  {
   "cell_type": "code",
   "execution_count": 37,
   "id": "7bf37557",
   "metadata": {},
   "outputs": [
    {
     "data": {
      "text/plain": [
       "KNeighborsClassifier(n_neighbors=13, p=1)"
      ]
     },
     "execution_count": 37,
     "metadata": {},
     "output_type": "execute_result"
    }
   ],
   "source": [
    "Gscv_model1.best_estimator_"
   ]
  },
  {
   "cell_type": "code",
   "execution_count": 38,
   "id": "f94fbcf0",
   "metadata": {},
   "outputs": [
    {
     "data": {
      "text/plain": [
       "0.8311249999999999"
      ]
     },
     "execution_count": 38,
     "metadata": {},
     "output_type": "execute_result"
    }
   ],
   "source": [
    "Gscv_model1.best_score_"
   ]
  },
  {
   "cell_type": "code",
   "execution_count": 39,
   "id": "1c9bf088",
   "metadata": {},
   "outputs": [
    {
     "data": {
      "text/plain": [
       "KNeighborsClassifier(n_neighbors=13, p=1)"
      ]
     },
     "execution_count": 39,
     "metadata": {},
     "output_type": "execute_result"
    }
   ],
   "source": [
    "knn_model = KNeighborsClassifier(n_neighbors=13,p=1)\n",
    "knn_model.fit(df_train,y_train)"
   ]
  },
  {
   "cell_type": "code",
   "execution_count": 40,
   "id": "e41a951d",
   "metadata": {},
   "outputs": [
    {
     "data": {
      "text/plain": [
       "0.852625"
      ]
     },
     "execution_count": 40,
     "metadata": {},
     "output_type": "execute_result"
    }
   ],
   "source": [
    "knn_model.score(df_train,y_train)"
   ]
  },
  {
   "cell_type": "code",
   "execution_count": 41,
   "id": "54ee55de",
   "metadata": {},
   "outputs": [
    {
     "data": {
      "text/plain": [
       "0.836"
      ]
     },
     "execution_count": 41,
     "metadata": {},
     "output_type": "execute_result"
    }
   ],
   "source": [
    "knn_model.score(df_test,y_test)"
   ]
  },
  {
   "cell_type": "code",
   "execution_count": null,
   "id": "40f65e9d",
   "metadata": {},
   "outputs": [],
   "source": []
  }
 ],
 "metadata": {
  "kernelspec": {
   "display_name": "Python 3 (ipykernel)",
   "language": "python",
   "name": "python3"
  },
  "language_info": {
   "codemirror_mode": {
    "name": "ipython",
    "version": 3
   },
   "file_extension": ".py",
   "mimetype": "text/x-python",
   "name": "python",
   "nbconvert_exporter": "python",
   "pygments_lexer": "ipython3",
   "version": "3.9.7"
  }
 },
 "nbformat": 4,
 "nbformat_minor": 5
}
